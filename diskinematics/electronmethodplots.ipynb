{
 "cells": [
  {
   "cell_type": "code",
   "execution_count": 7,
   "id": "e4e4516e",
   "metadata": {},
   "outputs": [],
   "source": [
    "import ROOT\n",
    "from ROOT import TF1, TCanvas, TPad\n",
    "from ROOT.TMath import Cos"
   ]
  },
  {
   "cell_type": "markdown",
   "id": "5becca86",
   "metadata": {},
   "source": [
    "First, we will define the functions that relate $x$ and $Q^2$ using the electron method for constant $y$, $E'$, and $\\theta'$."
   ]
  },
  {
   "cell_type": "code",
   "execution_count": 8,
   "id": "1e3e0cea",
   "metadata": {},
   "outputs": [],
   "source": [
    "def func_y(xx, par):\n",
    "    x = xx[0]\n",
    "    y = par[0]\n",
    "    \n",
    "    Ee = par[1]\n",
    "    Ep = par[2]\n",
    "    s = 4 * Ee * Ep\n",
    "    \n",
    "    return s * y * x\n",
    "\n",
    "def func_E_prime(xx, par):\n",
    "    x = xx[0]\n",
    "    E_prime = par[0]\n",
    "    \n",
    "    Ee = par[1]\n",
    "    Ep = par[2]\n",
    "    \n",
    "    res = (2 * Ee * (Ee - E_prime) * x) / ((Ee/Ep) - x)\n",
    "    if res > 4 * Ee * Ep * x:\n",
    "        return 4 * Ee * Ep * x\n",
    "    \n",
    "    return res\n",
    "\n",
    "def func_theta_prime(xx, par):\n",
    "    x = xx[0]\n",
    "    theta_prime = par[0] * 3.1415926535 / 180\n",
    "    \n",
    "    Ee = par[1]\n",
    "    Ep = par[2]\n",
    "    s = 4 * Ee * Ep\n",
    "    \n",
    "    exp_num = Ep * x * (1 - Cos(theta_prime))\n",
    "    exp_den = Ee * (1 + Cos(theta_prime))\n",
    "    \n",
    "    return s * x / (1 + exp_num / exp_den)"
   ]
  },
  {
   "cell_type": "markdown",
   "id": "7817e7f6",
   "metadata": {},
   "source": [
    "Next, we create a function that will create electron method plots given an energy frame as inputs."
   ]
  },
  {
   "cell_type": "code",
   "execution_count": 9,
   "id": "c7821305",
   "metadata": {},
   "outputs": [],
   "source": [
    "def generic_electron_method(Ee, Ep):\n",
    "    funcs = []\n",
    "    \n",
    "    const_y = TF1('x vs. Q^2 for constant y', func_y, 1e-5, 1, 3)\n",
    "    const_y.SetParameter(1, Ee)\n",
    "    const_y.SetParameter(2, Ep)\n",
    "    const_y.SetLineColor(3)\n",
    "    const_y.SetLineStyle(9)\n",
    "    const_y.SetNpx(10000)\n",
    "    ys = [1, 0.1, 0.01]\n",
    "    \n",
    "    const_E_prime = TF1('x vs. Q^2 for constant E prime', func_E_prime, 1e-5, 1, 3)\n",
    "    const_E_prime.SetParameter(1, Ee)\n",
    "    const_E_prime.SetParameter(2, Ep)\n",
    "    const_E_prime.SetLineColor(2)\n",
    "    const_E_prime.SetNpx(10000)\n",
    "    E_primes = [2, 4, 6, 8, 10, 12, 20, 40, 100]\n",
    "    \n",
    "    const_theta_prime = TF1('x vs. Q^2 for constant theta prime', func_theta_prime, 1e-5, 1, 3)\n",
    "    const_theta_prime.SetParameter(1, Ee)\n",
    "    const_theta_prime.SetParameter(2, Ep)\n",
    "    const_theta_prime.SetFillStyle(1001)\n",
    "    const_theta_prime.SetNpx(10000)\n",
    "    theta_primes = [4, 33, 147, 176]\n",
    "    theta_prime_colors = [38, 41, 30, 40]\n",
    "    \n",
    "    for i in range(len(theta_primes)):\n",
    "        const_theta_prime.SetParameter(0, theta_primes[i])\n",
    "        const_theta_prime.SetLineColor(theta_prime_colors[i])\n",
    "        const_theta_prime.SetFillColor(theta_prime_colors[i])\n",
    "        \n",
    "        funcs.append(const_theta_prime.Clone('theta=' + str(theta_primes[i])))\n",
    "    \n",
    "    for i in range(len(E_primes)):\n",
    "        const_E_prime.SetParameter(0, E_primes[i])\n",
    "        funcs.append(const_E_prime.Clone('E=' + str(E_primes[i])))\n",
    "    \n",
    "    for i in range(len(ys)):\n",
    "        const_y.SetParameter(0, ys[i])\n",
    "        funcs.append(const_y.Clone('y=' + str(ys[i])))\n",
    "    \n",
    "    return funcs"
   ]
  },
  {
   "cell_type": "code",
   "execution_count": 10,
   "id": "38a75b9f",
   "metadata": {},
   "outputs": [
    {
     "name": "stderr",
     "output_type": "stream",
     "text": [
      "Warning in <TCanvas::Constructor>: Deleting canvas with same name: c10x100\n"
     ]
    },
    {
     "data": {
      "image/png": "[encoded data removed]",
      "text/plain": [
       "<IPython.core.display.Image object>"
      ]
     },
     "metadata": {},
     "output_type": "display_data"
    }
   ],
   "source": [
    "c1 = TCanvas('c10x100', 'Canvas containing x vs. Q^2', 10, 10, 900, 700)\n",
    "    \n",
    "pad1 = TPad('pad10x100', 'The pad with the x vs. Q^2 functions', 0.05, 0.05, 0.95, 0.95)\n",
    "pad1.Draw()\n",
    "pad1.cd()\n",
    "pad1.SetLogx()\n",
    "pad1.SetLogy()\n",
    "\n",
    "funcs10x100 = generic_electron_method(10, 100)\n",
    "for i in range(len(funcs10x100)):\n",
    "    graphtype = '' if i == 0 else 'SAME'\n",
    "    funcs10x100[i].SetTitle('x vs. Q^2 using the electron method; x; Q^2')\n",
    "    funcs10x100[i].Draw(graphtype)\n",
    "    \n",
    "c1.Update()\n",
    "c1.Draw()"
   ]
  },
  {
   "cell_type": "code",
   "execution_count": null,
   "id": "02b6ba0c",
   "metadata": {},
   "outputs": [],
   "source": []
  }
 ],
 "metadata": {
  "kernelspec": {
   "display_name": "Python 3 (ipykernel)",
   "language": "python",
   "name": "python3"
  },
  "language_info": {
   "codemirror_mode": {
    "name": "ipython",
    "version": 3
   },
   "file_extension": ".py",
   "mimetype": "text/x-python",
   "name": "python",
   "nbconvert_exporter": "python",
   "pygments_lexer": "ipython3",
   "version": "3.8.10"
  }
 },
 "nbformat": 4,
 "nbformat_minor": 5
}
