{
 "cells": [
  {
   "cell_type": "code",
   "execution_count": 10,
   "id": "a09cc2be",
   "metadata": {},
   "outputs": [],
   "source": [
    "import ROOT\n",
    "from ROOT import TF1, TCanvas, TPad, TGraph\n",
    "from ROOT.TMath import Sin, Cos"
   ]
  },
  {
   "cell_type": "code",
   "execution_count": 11,
   "id": "3a04ddef",
   "metadata": {},
   "outputs": [],
   "source": [
    "def func_pt(pt, Ee, Ep):\n",
    "    const_pt = TGraph()\n",
    "    const_pt.SetLineColor(2)\n",
    "    \n",
    "    s = 4 * Ee * Ep\n",
    "    q2 = pt ** 2\n",
    "    \n",
    "    for i in range(100000):\n",
    "        q2 += 0.0001 * q2\n",
    "        x = (q2 / s) / (1 - ((pt ** 2) / q2))\n",
    "        \n",
    "        const_pt.SetPoint(i, x, q2)\n",
    "        \n",
    "        if q2 > 1e+4:\n",
    "            break\n",
    "    \n",
    "    return const_pt\n",
    "\n",
    "def func_Epz(xx, par):\n",
    "    x = xx[0]\n",
    "    Epz = par[0]\n",
    "    \n",
    "    Ee = par[1]\n",
    "    Ep = par[2]\n",
    "    s = 4 * Ee * Ep\n",
    "    \n",
    "    y = Epz / (2 * Ee)\n",
    "    \n",
    "    return s * y * x\n",
    "\n",
    "def func_F(xx, par):\n",
    "    x = xx[0]\n",
    "    F = par[0]\n",
    "    \n",
    "    Ee = par[1]\n",
    "    Ep = par[2]\n",
    "    s = 4 * Ee * Ep\n",
    "    \n",
    "    num = s * x * (1 - (F / (Ep * x)))\n",
    "    den = (Ee / (Ep * x)) - 1\n",
    "    \n",
    "    return num/den if num/den < s * x else s * x\n",
    "\n",
    "def func_gamma(xx, par):\n",
    "    x = xx[0]\n",
    "    gamma = par[0] * 3.1415926 / 180\n",
    "    \n",
    "    Ee = par[1]\n",
    "    Ep = par[2]\n",
    "    s = 4 * Ee * Ep\n",
    "    \n",
    "    a = 4 * Ee ** 2 * (Sin(gamma)) ** 2\n",
    "    b = 1 / (s * x)\n",
    "    c = (s * x * (1 - Cos(gamma))) ** 2\n",
    "    q2 = 1 / ((a/c) + b)\n",
    "    \n",
    "    return q2 if (0 < q2 and q2 < s * x) else s * x"
   ]
  },
  {
   "cell_type": "code",
   "execution_count": 12,
   "id": "289db48a",
   "metadata": {},
   "outputs": [],
   "source": [
    "def generic_jacquet_blondel(Ee, Ep):\n",
    "    funcs = []\n",
    "    \n",
    "    pts = [1, 2, 4, 10, 20]\n",
    "    \n",
    "    const_Epz = TF1('x vs. Q^2 for constant E-pz', func_Epz, 1e-5, 1, 3)\n",
    "    const_Epz.SetParameter(1, Ee)\n",
    "    const_Epz.SetParameter(2, Ep)\n",
    "    const_Epz.SetLineColor(3)\n",
    "    const_Epz.SetNpx(10000)\n",
    "    Epzs = [0.01, 0.1, 1, 10, 2 * Ee, 20]\n",
    "    if 2 * Ee < 20:\n",
    "        Epzs[5] = 0\n",
    "        \n",
    "    const_F = TF1('x vs. Q^2 for constant F', func_F, 1e-5, 1, 3)\n",
    "    const_F.SetParameter(1, Ee)\n",
    "    const_F.SetParameter(2, Ep)\n",
    "    const_F.SetLineColor(4)\n",
    "    const_F.SetNpx(10000)\n",
    "    Fs = [1, 5, 10, 20, 40, 100]\n",
    "    \n",
    "    const_gamma = TF1('x vs. Q^2 for constant gamma', func_gamma, 1e-5, 1, 3)\n",
    "    const_gamma.SetParameter(1, Ee)\n",
    "    const_gamma.SetParameter(2, Ep)\n",
    "    const_gamma.SetFillStyle(1001)\n",
    "    const_gamma.SetNpx(10000)\n",
    "    gammas = [176, 147, 33, 4]\n",
    "    gamma_colors = [38, 41, 30, 40]\n",
    "    \n",
    "    for i in range(len(gammas)):\n",
    "        const_gamma.SetParameter(0, gammas[i])\n",
    "        const_gamma.SetLineColor(gamma_colors[i])\n",
    "        const_gamma.SetFillColor(gamma_colors[i])\n",
    "        funcs.append(const_gamma.Clone('gamma='+str(gammas[i])))\n",
    "        \n",
    "    for i in range(len(Fs)):\n",
    "        const_F.SetParameter(0, Fs[i])\n",
    "        funcs.append(const_F.Clone('F='+str(Fs[i])))\n",
    "    \n",
    "    for i in range(len(pts)):\n",
    "        funcs.append(func_pt(pts[i], Ee, Ep))\n",
    "        \n",
    "    for i in range(len(Epzs)):\n",
    "        const_Epz.SetParameter(0, Epzs[i])\n",
    "        funcs.append(const_Epz.Clone('E-pz='+str(Epzs[i])))\n",
    "        \n",
    "    return funcs"
   ]
  },
  {
   "cell_type": "code",
   "execution_count": 15,
   "id": "b85cd3ef",
   "metadata": {},
   "outputs": [
    {
     "name": "stderr",
     "output_type": "stream",
     "text": [
      "Warning in <TCanvas::Constructor>: Deleting canvas with same name: c10x100\n"
     ]
    },
    {
     "data": {
      "image/png": "[encoded data removed]",
      "text/plain": [
       "<IPython.core.display.Image object>"
      ]
     },
     "metadata": {},
     "output_type": "display_data"
    }
   ],
   "source": [
    "c1 = TCanvas('c10x100', 'Canvas containing x vs. Q^2', 10, 10, 900, 700)\n",
    "\n",
    "pad1 = TPad('pad10x100', 'Pad containing x vs. Q^2', 0.05, 0.05, 0.95, 0.95)\n",
    "pad1.Draw()\n",
    "pad1.cd()\n",
    "pad1.SetLogx()\n",
    "pad1.SetLogy()\n",
    "\n",
    "funcs10x100 = generic_jacquet_blondel(10, 100)\n",
    "for i in range(len(funcs10x100)):\n",
    "    graphtype = '' if i == 0 else 'SAME'\n",
    "    funcs10x100[i].SetTitle('x vs. Q^2 using the Jacquet-Blondel method; x; Q^2')\n",
    "    funcs10x100[i].Draw(graphtype)\n",
    "    \n",
    "c1.Update()\n",
    "c1.Draw()"
   ]
  },
  {
   "cell_type": "code",
   "execution_count": null,
   "id": "04c89b68",
   "metadata": {},
   "outputs": [],
   "source": []
  }
 ],
 "metadata": {
  "kernelspec": {
   "display_name": "Python 3 (ipykernel)",
   "language": "python",
   "name": "python3"
  },
  "language_info": {
   "codemirror_mode": {
    "name": "ipython",
    "version": 3
   },
   "file_extension": ".py",
   "mimetype": "text/x-python",
   "name": "python",
   "nbconvert_exporter": "python",
   "pygments_lexer": "ipython3",
   "version": "3.8.10"
  }
 },
 "nbformat": 4,
 "nbformat_minor": 5
}
