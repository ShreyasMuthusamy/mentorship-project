{
 "cells": [
  {
   "cell_type": "code",
   "execution_count": 1,
   "id": "e481e625",
   "metadata": {},
   "outputs": [],
   "source": [
    "#include <iostream>\n",
    "\n",
    "#include \"TFile.h\"\n",
    "#include \"TTree.h\""
   ]
  },
  {
   "cell_type": "code",
   "execution_count": null,
   "id": "82689b05",
   "metadata": {},
   "outputs": [],
   "source": [
    "TFile *f = TFile::Open(\"pythia8NCDIS_10x100_minQ2=100_beamEffects_xAngle=-0.025_hiDiv_vtxfix_1_000.0001.eicrecon.tree.edm4eic.root\", \"RECREATE\");\n",
    "TTree *events12 = (TTree *)f->Get(\"events;12\");\n",
    "\n",
    "events12->Print();"
   ]
  },
  {
   "cell_type": "code",
   "execution_count": null,
   "id": "68f07e92",
   "metadata": {},
   "outputs": [],
   "source": []
  },
  {
   "cell_type": "code",
   "execution_count": null,
   "id": "59ac1d21",
   "metadata": {},
   "outputs": [],
   "source": []
  }
 ],
 "metadata": {
  "kernelspec": {
   "display_name": "ROOT C++",
   "language": "c++",
   "name": "root"
  },
  "language_info": {
   "codemirror_mode": "text/x-c++src",
   "file_extension": ".C",
   "mimetype": " text/x-c++src",
   "name": "c++"
  }
 },
 "nbformat": 4,
 "nbformat_minor": 5
}
