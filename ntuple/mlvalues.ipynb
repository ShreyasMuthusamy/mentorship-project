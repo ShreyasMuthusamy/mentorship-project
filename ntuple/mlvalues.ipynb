{
 "cells": [
  {
   "cell_type": "code",
   "execution_count": 15,
   "id": "cda9cb48",
   "metadata": {},
   "outputs": [],
   "source": [
    "import ROOT\n",
    "from ROOT import TFile, TTree, TLorentzVector, TMVA, TCut\n",
    "\n",
    "import numpy as np\n",
    "from array import array"
   ]
  },
  {
   "cell_type": "code",
   "execution_count": 16,
   "id": "6536b91f",
   "metadata": {},
   "outputs": [],
   "source": [
    "def get_values(ev_tree, ef, hf, em, jb):\n",
    "    m_e = 0.000511 # GeV\n",
    "    m_pi = 0.139570 # GeV\n",
    "    m_k = 0.493677 # GeV\n",
    "    m_p = 0.93827 # GeV\n",
    "    m_mu = 0.105658 # GeV\n",
    "\n",
    "    Ee = 10 # GeV\n",
    "    Ep = 100 # GeV\n",
    "\n",
    "    pdg = ev_tree.GetLeaf('GeneratedParticles.PDG')\n",
    "    px = ev_tree.GetLeaf('GeneratedParticles.momentum.x')\n",
    "    py = ev_tree.GetLeaf('GeneratedParticles.momentum.y')\n",
    "    pz = ev_tree.GetLeaf('GeneratedParticles.momentum.z')\n",
    "    E = ev_tree.GetLeaf('GeneratedParticles.energy')\n",
    "\n",
    "    four_p = TLorentzVector()\n",
    "    \n",
    "    Epzh = 0\n",
    "    pxh = 0\n",
    "    pyh = 0\n",
    "\n",
    "    for i in range(px.GetLen()):\n",
    "        # Values from electron final state\n",
    "        four_p.SetXYZM(px.GetValue(i),\n",
    "                       py.GetValue(i),\n",
    "                       pz.GetValue(i),\n",
    "                       m_e)\n",
    "        \n",
    "        if abs(int(pdg.GetValue(i))) == 11 and E.GetValue(i) > 0.1:\n",
    "            theta = 3.1415926535 - four_p.Theta()\n",
    "            ef[0] = four_p.Eta()\n",
    "            ef[1] = E.GetValue(i)\n",
    "\n",
    "            Q2 = 2 * Ee * E.GetValue(i) * (1 - np.cos(theta))\n",
    "            s = 4 * Ee * Ep\n",
    "            y = 1 - (E.GetValue(i) / Ee) * ((np.cos(theta / 2)) ** 2)\n",
    "            x = Q2 / (s * y)\n",
    "\n",
    "            # Clamping the y\n",
    "            if y >= 0.01 and y <= 0.95:                \n",
    "                e_x = x\n",
    "                e_Q2 = Q2\n",
    "\n",
    "        # Values from the hadronic final state\n",
    "        four_p.SetPxPyPzE(px.GetValue(i),\n",
    "                          py.GetValue(i),\n",
    "                          pz.GetValue(i),\n",
    "                          E.GetValue(i))\n",
    "\n",
    "        clamp = four_p.Eta() > -4 and four_p.Eta() < 4\n",
    "\n",
    "        if abs(int(pdg.GetValue(i))) != 11 and clamp:\n",
    "            Epzh += E.GetValue(i) - pz.GetValue(i)\n",
    "            pxh += px.GetValue(i)\n",
    "            pyh += py.GetValue(i)\n",
    "\n",
    "    em[0] = x\n",
    "    em[1] = Q2\n",
    "\n",
    "    pth2 = np.power(pxh, 2) + np.power(pyh, 2)\n",
    "\n",
    "    hf[0] = Epzh\n",
    "    hf[1] = pth2\n",
    "\n",
    "    y = Epzh / (2 * Ee)\n",
    "    Q2 = pth2 / (1 - y)\n",
    "    s = 4 * Ee * Ep\n",
    "    x = Q2 / (s * y)\n",
    "\n",
    "    jb[0] = x\n",
    "    jb[1] = Q2\n",
    "\n",
    "    return ef, hf, em, jb"
   ]
  },
  {
   "cell_type": "code",
   "execution_count": 17,
   "id": "2d389624",
   "metadata": {},
   "outputs": [],
   "source": [
    "filenames = [\n",
    "    'pythia8NCDIS_10x100_minQ2=100_beamEffects_xAngle=-0.025_hiDiv_vtxfix_1_000.0001.eicrecon.tree.edm4eic.root',\n",
    "    'pythia8NCDIS_10x100_minQ2=100_beamEffects_xAngle=-0.025_hiDiv_vtxfix_1_000.0002.eicrecon.tree.edm4eic.root',\n",
    "    'pythia8NCDIS_10x100_minQ2=100_beamEffects_xAngle=-0.025_hiDiv_vtxfix_1_000.0003.eicrecon.tree.edm4eic.root',\n",
    "    'pythia8NCDIS_10x100_minQ2=100_beamEffects_xAngle=-0.025_hiDiv_vtxfix_1_001.0004.eicrecon.tree.edm4eic.root'\n",
    "]"
   ]
  },
  {
   "cell_type": "code",
   "execution_count": 18,
   "id": "865b14d2",
   "metadata": {},
   "outputs": [],
   "source": [
    "dis_file = TFile.Open('dis_values.root', 'RECREATE')\n",
    "dis_tree = TTree('dis_tree', 'Deep Inelastic Scattering Values')"
   ]
  },
  {
   "cell_type": "code",
   "execution_count": 19,
   "id": "17d8c9be",
   "metadata": {},
   "outputs": [
    {
     "data": {
      "text/plain": [
       "<cppyy.gbl.TBranch object at 0x55e7c22b85d0>"
      ]
     },
     "execution_count": 19,
     "metadata": {},
     "output_type": "execute_result"
    }
   ],
   "source": [
    "electron_f = array('f', [ 0, 0 ])\n",
    "dis_tree.Branch('electron_final_state', electron_f, 'eta/F:final_energy/F')\n",
    "\n",
    "hadron_f = array('f', [ 0, 0 ])\n",
    "dis_tree.Branch('hadron_final_state', hadron_f, 'Epz/F:squared_pt/F')\n",
    "\n",
    "em_outputs = array('f', [ 0, 0 ])\n",
    "dis_tree.Branch('electron_method_outputs', em_outputs, 'x/F:Q_squared/F')\n",
    "\n",
    "jb_outputs = array('f', [ 0, 0 ])\n",
    "dis_tree.Branch('jacquet_blondel_method_outputs', jb_outputs, 'x/F:Q_squared/F')"
   ]
  },
  {
   "cell_type": "code",
   "execution_count": 20,
   "id": "7067faf0",
   "metadata": {
    "scrolled": false
   },
   "outputs": [],
   "source": [
    "for filename in filenames:  \n",
    "    events_file = TFile.Open(filename, 'READ')\n",
    "    events_tree = events_file.Get('events')\n",
    "    \n",
    "    for ev in events_tree:\n",
    "        electron_f, hadron_f, em_outputs, jb_outputs = get_values(events_tree, electron_f, hadron_f, em_outputs, jb_outputs)\n",
    "        dis_tree.Fill()\n",
    "\n",
    "dis_file.cd()\n",
    "dis_tree.Write()\n",
    "\n",
    "dis_file.Close()"
   ]
  },
  {
   "cell_type": "code",
   "execution_count": null,
   "id": "46cfc596",
   "metadata": {},
   "outputs": [],
   "source": []
  }
 ],
 "metadata": {
  "kernelspec": {
   "display_name": "Python 3 (ipykernel)",
   "language": "python",
   "name": "python3"
  },
  "language_info": {
   "codemirror_mode": {
    "name": "ipython",
    "version": 3
   },
   "file_extension": ".py",
   "mimetype": "text/x-python",
   "name": "python",
   "nbconvert_exporter": "python",
   "pygments_lexer": "ipython3",
   "version": "3.10.6"
  }
 },
 "nbformat": 4,
 "nbformat_minor": 5
}
